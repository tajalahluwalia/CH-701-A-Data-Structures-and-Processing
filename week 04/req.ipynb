{
 "cells": [
  {
   "attachments": {},
   "cell_type": "markdown",
   "metadata": {},
   "source": [
    "use the items to create relations. \n",
    "\n",
    "for eg: a table for license and owners, etc. \n",
    "\n",
    "eg table: owner, licence, topics and repositories. \n",
    "\n",
    "sample questions: \n",
    "- how many repo facebook research is using?\n",
    "- what is the repo with most starts?\n",
    "- what are the projs with apache 2 license. \n",
    "- how many stars does facebook research have?\n",
    "\n"
   ]
  },
  {
   "cell_type": "code",
   "execution_count": 109,
   "metadata": {},
   "outputs": [
    {
     "name": "stdout",
     "output_type": "stream",
     "text": [
      "Request successful. Response items size: 100\n"
     ]
    }
   ],
   "source": [
    "# Get data\n",
    "import requests\n",
    "response = requests.get(\"https://api.github.com/search/repositories?q=created:>2023-01-01+language:python&sort=stars&order=desc&per_page=100\")\n",
    "\n",
    "if response.status_code == 200:\n",
    "    data_js = response.json()\n",
    "    print(f\"Request successful. Response items size: {len(data_js['items'])}\")\n",
    "else:\n",
    "    print(\"Something went wrong with our request:\", response.text)"
   ]
  },
  {
   "cell_type": "code",
   "execution_count": 110,
   "metadata": {},
   "outputs": [],
   "source": [
    "import os\n",
    "import json\n",
    "\n",
    "items = data_js['items']\n",
    "\n",
    "for item in items:\n",
    "    directory = \"repositories/\" + item['full_name']\n",
    "    \n",
    "    if not os.path.exists(directory):\n",
    "        os.makedirs(directory)\n",
    "\n",
    "    metadata_path = directory + \"/metadata.json\"\n",
    "\n",
    "    with open(metadata_path, \"w\") as f:\n",
    "        json.dump({\"repository_name\": item[\"name\"],\n",
    "            \"html_url\": item[\"html_url\"],\n",
    "            \"owner\": item[\"owner\"][\"login\"]}, f)"
   ]
  },
  {
   "cell_type": "code",
   "execution_count": 111,
   "metadata": {},
   "outputs": [],
   "source": [
    "owners = []\n",
    "\n",
    "for item in items:\n",
    "    for key in list(item.keys()):\n",
    "        if \"url\" in key and key != \"url\":\n",
    "            del item[key]\n",
    "        if \"owner\" == key:\n",
    "            owner = item[key]\n",
    "            for keyo in list(owner.keys()):\n",
    "                if \"url\" in keyo and keyo != \"url\":\n",
    "                    del owner[keyo]\n",
    "            owners.append(owner)\n",
    "            del item[key]"
   ]
  },
  {
   "cell_type": "code",
   "execution_count": 112,
   "metadata": {},
   "outputs": [
    {
     "name": "stdout",
     "output_type": "stream",
     "text": [
      "{'id': 600798098, 'node_id': 'R_kgDOI89zkg', 'name': 'sd-webui-controlnet', 'full_name': 'Mikubill/sd-webui-controlnet', 'private': False, 'description': 'WebUI extension for ControlNet', 'fork': False, 'url': 'https://api.github.com/repos/Mikubill/sd-webui-controlnet', 'created_at': '2023-02-12T16:26:27Z', 'updated_at': '2023-03-06T19:46:57Z', 'pushed_at': '2023-03-06T16:59:58Z', 'homepage': '', 'size': 8418, 'stargazers_count': 4105, 'watchers_count': 4105, 'language': 'Python', 'has_issues': True, 'has_projects': True, 'has_downloads': True, 'has_wiki': True, 'has_pages': False, 'has_discussions': True, 'forks_count': 401, 'archived': False, 'disabled': False, 'open_issues_count': 143, 'license': {'key': 'mit', 'name': 'MIT License', 'spdx_id': 'MIT', 'url': 'https://api.github.com/licenses/mit', 'node_id': 'MDc6TGljZW5zZTEz'}, 'allow_forking': True, 'is_template': False, 'web_commit_signoff_required': False, 'topics': [], 'visibility': 'public', 'forks': 401, 'open_issues': 143, 'watchers': 4105, 'default_branch': 'main', 'score': 1.0}\n"
     ]
    }
   ],
   "source": [
    "print(items[3])"
   ]
  },
  {
   "cell_type": "code",
   "execution_count": 113,
   "metadata": {},
   "outputs": [
    {
     "data": {
      "text/html": [
       "<div>\n",
       "<style scoped>\n",
       "    .dataframe tbody tr th:only-of-type {\n",
       "        vertical-align: middle;\n",
       "    }\n",
       "\n",
       "    .dataframe tbody tr th {\n",
       "        vertical-align: top;\n",
       "    }\n",
       "\n",
       "    .dataframe thead th {\n",
       "        text-align: right;\n",
       "    }\n",
       "</style>\n",
       "<table border=\"1\" class=\"dataframe\">\n",
       "  <thead>\n",
       "    <tr style=\"text-align: right;\">\n",
       "      <th></th>\n",
       "      <th>id</th>\n",
       "      <th>node_id</th>\n",
       "      <th>name</th>\n",
       "      <th>full_name</th>\n",
       "      <th>private</th>\n",
       "      <th>description</th>\n",
       "      <th>fork</th>\n",
       "      <th>url</th>\n",
       "      <th>created_at</th>\n",
       "      <th>updated_at</th>\n",
       "      <th>...</th>\n",
       "      <th>allow_forking</th>\n",
       "      <th>is_template</th>\n",
       "      <th>web_commit_signoff_required</th>\n",
       "      <th>topics</th>\n",
       "      <th>visibility</th>\n",
       "      <th>forks</th>\n",
       "      <th>open_issues</th>\n",
       "      <th>watchers</th>\n",
       "      <th>default_branch</th>\n",
       "      <th>score</th>\n",
       "    </tr>\n",
       "  </thead>\n",
       "  <tbody>\n",
       "    <tr>\n",
       "      <th>0</th>\n",
       "      <td>595893961</td>\n",
       "      <td>R_kgDOI4SeyQ</td>\n",
       "      <td>ControlNet</td>\n",
       "      <td>lllyasviel/ControlNet</td>\n",
       "      <td>False</td>\n",
       "      <td>Let us control diffusion models!</td>\n",
       "      <td>False</td>\n",
       "      <td>https://api.github.com/repos/lllyasviel/Contro...</td>\n",
       "      <td>2023-02-01T02:43:30Z</td>\n",
       "      <td>2023-03-06T19:40:45Z</td>\n",
       "      <td>...</td>\n",
       "      <td>True</td>\n",
       "      <td>False</td>\n",
       "      <td>False</td>\n",
       "      <td>[]</td>\n",
       "      <td>public</td>\n",
       "      <td>938</td>\n",
       "      <td>129</td>\n",
       "      <td>11888</td>\n",
       "      <td>main</td>\n",
       "      <td>1.0</td>\n",
       "    </tr>\n",
       "    <tr>\n",
       "      <th>1</th>\n",
       "      <td>601538369</td>\n",
       "      <td>R_kgDOI9q_QQ</td>\n",
       "      <td>llama</td>\n",
       "      <td>facebookresearch/llama</td>\n",
       "      <td>False</td>\n",
       "      <td>Inference code for LLaMA models</td>\n",
       "      <td>False</td>\n",
       "      <td>https://api.github.com/repos/facebookresearch/...</td>\n",
       "      <td>2023-02-14T09:29:12Z</td>\n",
       "      <td>2023-03-06T19:49:49Z</td>\n",
       "      <td>...</td>\n",
       "      <td>True</td>\n",
       "      <td>False</td>\n",
       "      <td>False</td>\n",
       "      <td>[]</td>\n",
       "      <td>public</td>\n",
       "      <td>979</td>\n",
       "      <td>104</td>\n",
       "      <td>7795</td>\n",
       "      <td>main</td>\n",
       "      <td>1.0</td>\n",
       "    </tr>\n",
       "  </tbody>\n",
       "</table>\n",
       "<p>2 rows × 37 columns</p>\n",
       "</div>"
      ],
      "text/plain": [
       "          id       node_id        name               full_name  private  \\\n",
       "0  595893961  R_kgDOI4SeyQ  ControlNet   lllyasviel/ControlNet    False   \n",
       "1  601538369  R_kgDOI9q_QQ       llama  facebookresearch/llama    False   \n",
       "\n",
       "                        description   fork  \\\n",
       "0  Let us control diffusion models!  False   \n",
       "1   Inference code for LLaMA models  False   \n",
       "\n",
       "                                                 url            created_at  \\\n",
       "0  https://api.github.com/repos/lllyasviel/Contro...  2023-02-01T02:43:30Z   \n",
       "1  https://api.github.com/repos/facebookresearch/...  2023-02-14T09:29:12Z   \n",
       "\n",
       "             updated_at  ... allow_forking is_template  \\\n",
       "0  2023-03-06T19:40:45Z  ...          True       False   \n",
       "1  2023-03-06T19:49:49Z  ...          True       False   \n",
       "\n",
       "   web_commit_signoff_required  topics  visibility forks  open_issues  \\\n",
       "0                        False      []      public   938          129   \n",
       "1                        False      []      public   979          104   \n",
       "\n",
       "   watchers  default_branch  score  \n",
       "0     11888            main    1.0  \n",
       "1      7795            main    1.0  \n",
       "\n",
       "[2 rows x 37 columns]"
      ]
     },
     "execution_count": 113,
     "metadata": {},
     "output_type": "execute_result"
    }
   ],
   "source": [
    "import pandas as pd \n",
    "\n",
    "pd.DataFrame.from_dict(items).head(2)"
   ]
  },
  {
   "cell_type": "code",
   "execution_count": 125,
   "metadata": {},
   "outputs": [],
   "source": [
    "df = pd.DataFrame.from_dict(data_js['items'])\n",
    "owners_df = pd.DataFrame.from_dict(owners) \\\n",
    "                        .drop_duplicates() \\\n",
    "                        .reset_index(drop=True)"
   ]
  },
  {
   "cell_type": "code",
   "execution_count": 126,
   "metadata": {},
   "outputs": [],
   "source": [
    "# licence_df = df['license'].apply(pd.Series)\n",
    "# licence_df = licence_df.drop_duplicates()\n",
    "\n",
    "licence_df = pd.json_normalize(df['license']) \\\n",
    "               .drop_duplicates() \\\n",
    "               .reset_index(drop=True)"
   ]
  },
  {
   "cell_type": "code",
   "execution_count": 127,
   "metadata": {},
   "outputs": [
    {
     "data": {
      "text/html": [
       "<div>\n",
       "<style scoped>\n",
       "    .dataframe tbody tr th:only-of-type {\n",
       "        vertical-align: middle;\n",
       "    }\n",
       "\n",
       "    .dataframe tbody tr th {\n",
       "        vertical-align: top;\n",
       "    }\n",
       "\n",
       "    .dataframe thead th {\n",
       "        text-align: right;\n",
       "    }\n",
       "</style>\n",
       "<table border=\"1\" class=\"dataframe\">\n",
       "  <thead>\n",
       "    <tr style=\"text-align: right;\">\n",
       "      <th></th>\n",
       "      <th>login</th>\n",
       "      <th>id</th>\n",
       "      <th>node_id</th>\n",
       "      <th>gravatar_id</th>\n",
       "      <th>url</th>\n",
       "      <th>type</th>\n",
       "      <th>site_admin</th>\n",
       "    </tr>\n",
       "  </thead>\n",
       "  <tbody>\n",
       "    <tr>\n",
       "      <th>5</th>\n",
       "      <td>BlinkDL</td>\n",
       "      <td>33809201</td>\n",
       "      <td>MDQ6VXNlcjMzODA5MjAx</td>\n",
       "      <td></td>\n",
       "      <td>https://api.github.com/users/BlinkDL</td>\n",
       "      <td>User</td>\n",
       "      <td>False</td>\n",
       "    </tr>\n",
       "    <tr>\n",
       "      <th>54</th>\n",
       "      <td>maxi1134</td>\n",
       "      <td>1342643</td>\n",
       "      <td>MDQ6VXNlcjEzNDI2NDM=</td>\n",
       "      <td></td>\n",
       "      <td>https://api.github.com/users/maxi1134</td>\n",
       "      <td>User</td>\n",
       "      <td>False</td>\n",
       "    </tr>\n",
       "    <tr>\n",
       "      <th>85</th>\n",
       "      <td>ashawkey</td>\n",
       "      <td>25863658</td>\n",
       "      <td>MDQ6VXNlcjI1ODYzNjU4</td>\n",
       "      <td></td>\n",
       "      <td>https://api.github.com/users/ashawkey</td>\n",
       "      <td>User</td>\n",
       "      <td>False</td>\n",
       "    </tr>\n",
       "  </tbody>\n",
       "</table>\n",
       "</div>"
      ],
      "text/plain": [
       "       login        id               node_id gravatar_id  \\\n",
       "5    BlinkDL  33809201  MDQ6VXNlcjMzODA5MjAx               \n",
       "54  maxi1134   1342643  MDQ6VXNlcjEzNDI2NDM=               \n",
       "85  ashawkey  25863658  MDQ6VXNlcjI1ODYzNjU4               \n",
       "\n",
       "                                      url  type  site_admin  \n",
       "5    https://api.github.com/users/BlinkDL  User       False  \n",
       "54  https://api.github.com/users/maxi1134  User       False  \n",
       "85  https://api.github.com/users/ashawkey  User       False  "
      ]
     },
     "metadata": {},
     "output_type": "display_data"
    },
    {
     "data": {
      "text/html": [
       "<div>\n",
       "<style scoped>\n",
       "    .dataframe tbody tr th:only-of-type {\n",
       "        vertical-align: middle;\n",
       "    }\n",
       "\n",
       "    .dataframe tbody tr th {\n",
       "        vertical-align: top;\n",
       "    }\n",
       "\n",
       "    .dataframe thead th {\n",
       "        text-align: right;\n",
       "    }\n",
       "</style>\n",
       "<table border=\"1\" class=\"dataframe\">\n",
       "  <thead>\n",
       "    <tr style=\"text-align: right;\">\n",
       "      <th></th>\n",
       "      <th>key</th>\n",
       "      <th>name</th>\n",
       "      <th>spdx_id</th>\n",
       "      <th>url</th>\n",
       "      <th>node_id</th>\n",
       "    </tr>\n",
       "  </thead>\n",
       "  <tbody>\n",
       "    <tr>\n",
       "      <th>3</th>\n",
       "      <td>other</td>\n",
       "      <td>Other</td>\n",
       "      <td>NOASSERTION</td>\n",
       "      <td>None</td>\n",
       "      <td>MDc6TGljZW5zZTA=</td>\n",
       "    </tr>\n",
       "    <tr>\n",
       "      <th>7</th>\n",
       "      <td>bsd-2-clause</td>\n",
       "      <td>BSD 2-Clause \"Simplified\" License</td>\n",
       "      <td>BSD-2-Clause</td>\n",
       "      <td>https://api.github.com/licenses/bsd-2-clause</td>\n",
       "      <td>MDc6TGljZW5zZTQ=</td>\n",
       "    </tr>\n",
       "    <tr>\n",
       "      <th>6</th>\n",
       "      <td>cc-by-sa-4.0</td>\n",
       "      <td>Creative Commons Attribution Share Alike 4.0 I...</td>\n",
       "      <td>CC-BY-SA-4.0</td>\n",
       "      <td>https://api.github.com/licenses/cc-by-sa-4.0</td>\n",
       "      <td>MDc6TGljZW5zZTI2</td>\n",
       "    </tr>\n",
       "  </tbody>\n",
       "</table>\n",
       "</div>"
      ],
      "text/plain": [
       "            key                                               name  \\\n",
       "3         other                                              Other   \n",
       "7  bsd-2-clause                  BSD 2-Clause \"Simplified\" License   \n",
       "6  cc-by-sa-4.0  Creative Commons Attribution Share Alike 4.0 I...   \n",
       "\n",
       "        spdx_id                                           url  \\\n",
       "3   NOASSERTION                                          None   \n",
       "7  BSD-2-Clause  https://api.github.com/licenses/bsd-2-clause   \n",
       "6  CC-BY-SA-4.0  https://api.github.com/licenses/cc-by-sa-4.0   \n",
       "\n",
       "            node_id  \n",
       "3  MDc6TGljZW5zZTA=  \n",
       "7  MDc6TGljZW5zZTQ=  \n",
       "6  MDc6TGljZW5zZTI2  "
      ]
     },
     "metadata": {},
     "output_type": "display_data"
    }
   ],
   "source": [
    "display(owners_df.sample(3))\n",
    "display(licence_df.sample(3))\n"
   ]
  },
  {
   "cell_type": "code",
   "execution_count": null,
   "metadata": {},
   "outputs": [],
   "source": []
  },
  {
   "cell_type": "code",
   "execution_count": null,
   "metadata": {},
   "outputs": [],
   "source": []
  },
  {
   "cell_type": "code",
   "execution_count": null,
   "metadata": {},
   "outputs": [],
   "source": []
  },
  {
   "cell_type": "code",
   "execution_count": null,
   "metadata": {},
   "outputs": [],
   "source": []
  }
 ],
 "metadata": {
  "kernelspec": {
   "display_name": "Python 3",
   "language": "python",
   "name": "python3"
  },
  "language_info": {
   "codemirror_mode": {
    "name": "ipython",
    "version": 3
   },
   "file_extension": ".py",
   "mimetype": "text/x-python",
   "name": "python",
   "nbconvert_exporter": "python",
   "pygments_lexer": "ipython3",
   "version": "3.9.6"
  },
  "orig_nbformat": 4,
  "vscode": {
   "interpreter": {
    "hash": "31f2aee4e71d21fbe5cf8b01ff0e069b9275f58929596ceb00d14d90e3e16cd6"
   }
  }
 },
 "nbformat": 4,
 "nbformat_minor": 2
}
